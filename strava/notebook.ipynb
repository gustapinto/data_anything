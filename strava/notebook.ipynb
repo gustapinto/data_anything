{
 "cells": [
  {
   "cell_type": "markdown",
   "metadata": {},
   "source": [
    "# Análise de pedaladas Strava\n",
    "<hr/>"
   ]
  },
  {
   "cell_type": "code",
   "execution_count": 1,
   "metadata": {
    "tags": []
   },
   "outputs": [],
   "source": [
    "from services import print_average_data, plot_mileage_chart, plot_all_rides_table"
   ]
  },
  {
   "cell_type": "markdown",
   "metadata": {},
   "source": [
    "## Todas as pedaladas"
   ]
  },
  {
   "cell_type": "code",
   "execution_count": 2,
   "metadata": {},
   "outputs": [
    {
     "data": {
      "text/html": [
       "<style type=\"text/css\">\n",
       "</style>\n",
       "<table id=\"T_7ace2_\">\n",
       "  <thead>\n",
       "    <tr>\n",
       "      <th class=\"blank level0\" >&nbsp;</th>\n",
       "      <th class=\"col_heading level0 col0\" >Quilometragem</th>\n",
       "      <th class=\"col_heading level0 col1\" >Duração</th>\n",
       "      <th class=\"col_heading level0 col2\" >Velocidade média</th>\n",
       "      <th class=\"col_heading level0 col3\" >Velocidade máxima</th>\n",
       "    </tr>\n",
       "  </thead>\n",
       "  <tbody>\n",
       "    <tr>\n",
       "      <th id=\"T_7ace2_level0_row0\" class=\"row_heading level0 row0\" >13-03-2020</th>\n",
       "      <td id=\"T_7ace2_row0_col0\" class=\"data row0 col0\" >11.14 Km</td>\n",
       "      <td id=\"T_7ace2_row0_col1\" class=\"data row0 col1\" >42.32 Min</td>\n",
       "      <td id=\"T_7ace2_row0_col2\" class=\"data row0 col2\" >15.8 Km/h</td>\n",
       "      <td id=\"T_7ace2_row0_col3\" class=\"data row0 col3\" >29.5 Km/h</td>\n",
       "    </tr>\n",
       "    <tr>\n",
       "      <th id=\"T_7ace2_level0_row1\" class=\"row_heading level0 row1\" >25-04-2020</th>\n",
       "      <td id=\"T_7ace2_row1_col0\" class=\"data row1 col0\" >8.84 Km</td>\n",
       "      <td id=\"T_7ace2_row1_col1\" class=\"data row1 col1\" >26.27 Min</td>\n",
       "      <td id=\"T_7ace2_row1_col2\" class=\"data row1 col2\" >20.2 Km/h</td>\n",
       "      <td id=\"T_7ace2_row1_col3\" class=\"data row1 col3\" >29.2 Km/h</td>\n",
       "    </tr>\n",
       "    <tr>\n",
       "      <th id=\"T_7ace2_level0_row2\" class=\"row_heading level0 row2\" >09-05-2020</th>\n",
       "      <td id=\"T_7ace2_row2_col0\" class=\"data row2 col0\" >7.69 Km</td>\n",
       "      <td id=\"T_7ace2_row2_col1\" class=\"data row2 col1\" >24.95 Min</td>\n",
       "      <td id=\"T_7ace2_row2_col2\" class=\"data row2 col2\" >18.5 Km/h</td>\n",
       "      <td id=\"T_7ace2_row2_col3\" class=\"data row2 col3\" >29.5 Km/h</td>\n",
       "    </tr>\n",
       "    <tr>\n",
       "      <th id=\"T_7ace2_level0_row3\" class=\"row_heading level0 row3\" >20-06-2020</th>\n",
       "      <td id=\"T_7ace2_row3_col0\" class=\"data row3 col0\" >10.46 Km</td>\n",
       "      <td id=\"T_7ace2_row3_col1\" class=\"data row3 col1\" >32.23 Min</td>\n",
       "      <td id=\"T_7ace2_row3_col2\" class=\"data row3 col2\" >19.5 Km/h</td>\n",
       "      <td id=\"T_7ace2_row3_col3\" class=\"data row3 col3\" >32.4 Km/h</td>\n",
       "    </tr>\n",
       "    <tr>\n",
       "      <th id=\"T_7ace2_level0_row4\" class=\"row_heading level0 row4\" >21-06-2020</th>\n",
       "      <td id=\"T_7ace2_row4_col0\" class=\"data row4 col0\" >8.78 Km</td>\n",
       "      <td id=\"T_7ace2_row4_col1\" class=\"data row4 col1\" >35.20 Min</td>\n",
       "      <td id=\"T_7ace2_row4_col2\" class=\"data row4 col2\" >15.0 Km/h</td>\n",
       "      <td id=\"T_7ace2_row4_col3\" class=\"data row4 col3\" >30.6 Km/h</td>\n",
       "    </tr>\n",
       "    <tr>\n",
       "      <th id=\"T_7ace2_level0_row5\" class=\"row_heading level0 row5\" >04-07-2020</th>\n",
       "      <td id=\"T_7ace2_row5_col0\" class=\"data row5 col0\" >11.10 Km</td>\n",
       "      <td id=\"T_7ace2_row5_col1\" class=\"data row5 col1\" >34.15 Min</td>\n",
       "      <td id=\"T_7ace2_row5_col2\" class=\"data row5 col2\" >19.5 Km/h</td>\n",
       "      <td id=\"T_7ace2_row5_col3\" class=\"data row5 col3\" >30.6 Km/h</td>\n",
       "    </tr>\n",
       "    <tr>\n",
       "      <th id=\"T_7ace2_level0_row6\" class=\"row_heading level0 row6\" >05-07-2020</th>\n",
       "      <td id=\"T_7ace2_row6_col0\" class=\"data row6 col0\" >8.71 Km</td>\n",
       "      <td id=\"T_7ace2_row6_col1\" class=\"data row6 col1\" >31.63 Min</td>\n",
       "      <td id=\"T_7ace2_row6_col2\" class=\"data row6 col2\" >16.7 Km/h</td>\n",
       "      <td id=\"T_7ace2_row6_col3\" class=\"data row6 col3\" >31.7 Km/h</td>\n",
       "    </tr>\n",
       "    <tr>\n",
       "      <th id=\"T_7ace2_level0_row7\" class=\"row_heading level0 row7\" >18-07-2020</th>\n",
       "      <td id=\"T_7ace2_row7_col0\" class=\"data row7 col0\" >5.08 Km</td>\n",
       "      <td id=\"T_7ace2_row7_col1\" class=\"data row7 col1\" >20.13 Min</td>\n",
       "      <td id=\"T_7ace2_row7_col2\" class=\"data row7 col2\" >15.1 Km/h</td>\n",
       "      <td id=\"T_7ace2_row7_col3\" class=\"data row7 col3\" >33.1 Km/h</td>\n",
       "    </tr>\n",
       "    <tr>\n",
       "      <th id=\"T_7ace2_level0_row8\" class=\"row_heading level0 row8\" >27-08-2020</th>\n",
       "      <td id=\"T_7ace2_row8_col0\" class=\"data row8 col0\" >14.89 Km</td>\n",
       "      <td id=\"T_7ace2_row8_col1\" class=\"data row8 col1\" >53.80 Min</td>\n",
       "      <td id=\"T_7ace2_row8_col2\" class=\"data row8 col2\" >16.6 Km/h</td>\n",
       "      <td id=\"T_7ace2_row8_col3\" class=\"data row8 col3\" >40.7 Km/h</td>\n",
       "    </tr>\n",
       "    <tr>\n",
       "      <th id=\"T_7ace2_level0_row9\" class=\"row_heading level0 row9\" >30-08-2020</th>\n",
       "      <td id=\"T_7ace2_row9_col0\" class=\"data row9 col0\" >8.85 Km</td>\n",
       "      <td id=\"T_7ace2_row9_col1\" class=\"data row9 col1\" >29.47 Min</td>\n",
       "      <td id=\"T_7ace2_row9_col2\" class=\"data row9 col2\" >18.0 Km/h</td>\n",
       "      <td id=\"T_7ace2_row9_col3\" class=\"data row9 col3\" >36.4 Km/h</td>\n",
       "    </tr>\n",
       "    <tr>\n",
       "      <th id=\"T_7ace2_level0_row10\" class=\"row_heading level0 row10\" >05-09-2020</th>\n",
       "      <td id=\"T_7ace2_row10_col0\" class=\"data row10 col0\" >19.88 Km</td>\n",
       "      <td id=\"T_7ace2_row10_col1\" class=\"data row10 col1\" >51.47 Min</td>\n",
       "      <td id=\"T_7ace2_row10_col2\" class=\"data row10 col2\" >23.2 Km/h</td>\n",
       "      <td id=\"T_7ace2_row10_col3\" class=\"data row10 col3\" >40.7 Km/h</td>\n",
       "    </tr>\n",
       "    <tr>\n",
       "      <th id=\"T_7ace2_level0_row11\" class=\"row_heading level0 row11\" >12-09-2020</th>\n",
       "      <td id=\"T_7ace2_row11_col0\" class=\"data row11 col0\" >12.32 Km</td>\n",
       "      <td id=\"T_7ace2_row11_col1\" class=\"data row11 col1\" >36.22 Min</td>\n",
       "      <td id=\"T_7ace2_row11_col2\" class=\"data row11 col2\" >20.4 Km/h</td>\n",
       "      <td id=\"T_7ace2_row11_col3\" class=\"data row11 col3\" >38.2 Km/h</td>\n",
       "    </tr>\n",
       "    <tr>\n",
       "      <th id=\"T_7ace2_level0_row12\" class=\"row_heading level0 row12\" >19-09-2020</th>\n",
       "      <td id=\"T_7ace2_row12_col0\" class=\"data row12 col0\" >13.18 Km</td>\n",
       "      <td id=\"T_7ace2_row12_col1\" class=\"data row12 col1\" >36.83 Min</td>\n",
       "      <td id=\"T_7ace2_row12_col2\" class=\"data row12 col2\" >21.5 Km/h</td>\n",
       "      <td id=\"T_7ace2_row12_col3\" class=\"data row12 col3\" >42.5 Km/h</td>\n",
       "    </tr>\n",
       "    <tr>\n",
       "      <th id=\"T_7ace2_level0_row13\" class=\"row_heading level0 row13\" >26-09-2020</th>\n",
       "      <td id=\"T_7ace2_row13_col0\" class=\"data row13 col0\" >23.01 Km</td>\n",
       "      <td id=\"T_7ace2_row13_col1\" class=\"data row13 col1\" >66.98 Min</td>\n",
       "      <td id=\"T_7ace2_row13_col2\" class=\"data row13 col2\" >20.6 Km/h</td>\n",
       "      <td id=\"T_7ace2_row13_col3\" class=\"data row13 col3\" >37.8 Km/h</td>\n",
       "    </tr>\n",
       "    <tr>\n",
       "      <th id=\"T_7ace2_level0_row14\" class=\"row_heading level0 row14\" >12-10-2020</th>\n",
       "      <td id=\"T_7ace2_row14_col0\" class=\"data row14 col0\" >23.04 Km</td>\n",
       "      <td id=\"T_7ace2_row14_col1\" class=\"data row14 col1\" >63.35 Min</td>\n",
       "      <td id=\"T_7ace2_row14_col2\" class=\"data row14 col2\" >21.8 Km/h</td>\n",
       "      <td id=\"T_7ace2_row14_col3\" class=\"data row14 col3\" >39.2 Km/h</td>\n",
       "    </tr>\n",
       "    <tr>\n",
       "      <th id=\"T_7ace2_level0_row15\" class=\"row_heading level0 row15\" >24-10-2020</th>\n",
       "      <td id=\"T_7ace2_row15_col0\" class=\"data row15 col0\" >32.49 Km</td>\n",
       "      <td id=\"T_7ace2_row15_col1\" class=\"data row15 col1\" >87.83 Min</td>\n",
       "      <td id=\"T_7ace2_row15_col2\" class=\"data row15 col2\" >22.2 Km/h</td>\n",
       "      <td id=\"T_7ace2_row15_col3\" class=\"data row15 col3\" >41.0 Km/h</td>\n",
       "    </tr>\n",
       "    <tr>\n",
       "      <th id=\"T_7ace2_level0_row16\" class=\"row_heading level0 row16\" >31-10-2020</th>\n",
       "      <td id=\"T_7ace2_row16_col0\" class=\"data row16 col0\" >13.28 Km</td>\n",
       "      <td id=\"T_7ace2_row16_col1\" class=\"data row16 col1\" >38.07 Min</td>\n",
       "      <td id=\"T_7ace2_row16_col2\" class=\"data row16 col2\" >20.9 Km/h</td>\n",
       "      <td id=\"T_7ace2_row16_col3\" class=\"data row16 col3\" >40.7 Km/h</td>\n",
       "    </tr>\n",
       "    <tr>\n",
       "      <th id=\"T_7ace2_level0_row17\" class=\"row_heading level0 row17\" >02-11-2020</th>\n",
       "      <td id=\"T_7ace2_row17_col0\" class=\"data row17 col0\" >25.47 Km</td>\n",
       "      <td id=\"T_7ace2_row17_col1\" class=\"data row17 col1\" >74.32 Min</td>\n",
       "      <td id=\"T_7ace2_row17_col2\" class=\"data row17 col2\" >20.6 Km/h</td>\n",
       "      <td id=\"T_7ace2_row17_col3\" class=\"data row17 col3\" >35.3 Km/h</td>\n",
       "    </tr>\n",
       "    <tr>\n",
       "      <th id=\"T_7ace2_level0_row18\" class=\"row_heading level0 row18\" >21-11-2020</th>\n",
       "      <td id=\"T_7ace2_row18_col0\" class=\"data row18 col0\" >15.18 Km</td>\n",
       "      <td id=\"T_7ace2_row18_col1\" class=\"data row18 col1\" >42.37 Min</td>\n",
       "      <td id=\"T_7ace2_row18_col2\" class=\"data row18 col2\" >21.5 Km/h</td>\n",
       "      <td id=\"T_7ace2_row18_col3\" class=\"data row18 col3\" >34.9 Km/h</td>\n",
       "    </tr>\n",
       "    <tr>\n",
       "      <th id=\"T_7ace2_level0_row19\" class=\"row_heading level0 row19\" >10-12-2020</th>\n",
       "      <td id=\"T_7ace2_row19_col0\" class=\"data row19 col0\" >12.21 Km</td>\n",
       "      <td id=\"T_7ace2_row19_col1\" class=\"data row19 col1\" >33.72 Min</td>\n",
       "      <td id=\"T_7ace2_row19_col2\" class=\"data row19 col2\" >21.7 Km/h</td>\n",
       "      <td id=\"T_7ace2_row19_col3\" class=\"data row19 col3\" >33.8 Km/h</td>\n",
       "    </tr>\n",
       "    <tr>\n",
       "      <th id=\"T_7ace2_level0_row20\" class=\"row_heading level0 row20\" >24-12-2020</th>\n",
       "      <td id=\"T_7ace2_row20_col0\" class=\"data row20 col0\" >8.18 Km</td>\n",
       "      <td id=\"T_7ace2_row20_col1\" class=\"data row20 col1\" >22.32 Min</td>\n",
       "      <td id=\"T_7ace2_row20_col2\" class=\"data row20 col2\" >22.0 Km/h</td>\n",
       "      <td id=\"T_7ace2_row20_col3\" class=\"data row20 col3\" >33.0 Km/h</td>\n",
       "    </tr>\n",
       "    <tr>\n",
       "      <th id=\"T_7ace2_level0_row21\" class=\"row_heading level0 row21\" >26-12-2020</th>\n",
       "      <td id=\"T_7ace2_row21_col0\" class=\"data row21 col0\" >7.62 Km</td>\n",
       "      <td id=\"T_7ace2_row21_col1\" class=\"data row21 col1\" >22.62 Min</td>\n",
       "      <td id=\"T_7ace2_row21_col2\" class=\"data row21 col2\" >20.2 Km/h</td>\n",
       "      <td id=\"T_7ace2_row21_col3\" class=\"data row21 col3\" >38.2 Km/h</td>\n",
       "    </tr>\n",
       "    <tr>\n",
       "      <th id=\"T_7ace2_level0_row22\" class=\"row_heading level0 row22\" >31-12-2020</th>\n",
       "      <td id=\"T_7ace2_row22_col0\" class=\"data row22 col0\" >16.89 Km</td>\n",
       "      <td id=\"T_7ace2_row22_col1\" class=\"data row22 col1\" >41.58 Min</td>\n",
       "      <td id=\"T_7ace2_row22_col2\" class=\"data row22 col2\" >24.4 Km/h</td>\n",
       "      <td id=\"T_7ace2_row22_col3\" class=\"data row22 col3\" >36.4 Km/h</td>\n",
       "    </tr>\n",
       "    <tr>\n",
       "      <th id=\"T_7ace2_level0_row23\" class=\"row_heading level0 row23\" >02-01-2021</th>\n",
       "      <td id=\"T_7ace2_row23_col0\" class=\"data row23 col0\" >9.98 Km</td>\n",
       "      <td id=\"T_7ace2_row23_col1\" class=\"data row23 col1\" >29.42 Min</td>\n",
       "      <td id=\"T_7ace2_row23_col2\" class=\"data row23 col2\" >20.4 Km/h</td>\n",
       "      <td id=\"T_7ace2_row23_col3\" class=\"data row23 col3\" >38.9 Km/h</td>\n",
       "    </tr>\n",
       "    <tr>\n",
       "      <th id=\"T_7ace2_level0_row24\" class=\"row_heading level0 row24\" >27-01-2021</th>\n",
       "      <td id=\"T_7ace2_row24_col0\" class=\"data row24 col0\" >24.57 Km</td>\n",
       "      <td id=\"T_7ace2_row24_col1\" class=\"data row24 col1\" >58.77 Min</td>\n",
       "      <td id=\"T_7ace2_row24_col2\" class=\"data row24 col2\" >25.3 Km/h</td>\n",
       "      <td id=\"T_7ace2_row24_col3\" class=\"data row24 col3\" >41.4 Km/h</td>\n",
       "    </tr>\n",
       "    <tr>\n",
       "      <th id=\"T_7ace2_level0_row25\" class=\"row_heading level0 row25\" >29-01-2021</th>\n",
       "      <td id=\"T_7ace2_row25_col0\" class=\"data row25 col0\" >26.81 Km</td>\n",
       "      <td id=\"T_7ace2_row25_col1\" class=\"data row25 col1\" >67.10 Min</td>\n",
       "      <td id=\"T_7ace2_row25_col2\" class=\"data row25 col2\" >23.9 Km/h</td>\n",
       "      <td id=\"T_7ace2_row25_col3\" class=\"data row25 col3\" >43.6 Km/h</td>\n",
       "    </tr>\n",
       "    <tr>\n",
       "      <th id=\"T_7ace2_level0_row26\" class=\"row_heading level0 row26\" >01-02-2021</th>\n",
       "      <td id=\"T_7ace2_row26_col0\" class=\"data row26 col0\" >14.22 Km</td>\n",
       "      <td id=\"T_7ace2_row26_col1\" class=\"data row26 col1\" >50.05 Min</td>\n",
       "      <td id=\"T_7ace2_row26_col2\" class=\"data row26 col2\" >16.8 Km/h</td>\n",
       "      <td id=\"T_7ace2_row26_col3\" class=\"data row26 col3\" >37.1 Km/h</td>\n",
       "    </tr>\n",
       "    <tr>\n",
       "      <th id=\"T_7ace2_level0_row27\" class=\"row_heading level0 row27\" >02-02-2021</th>\n",
       "      <td id=\"T_7ace2_row27_col0\" class=\"data row27 col0\" >21.26 Km</td>\n",
       "      <td id=\"T_7ace2_row27_col1\" class=\"data row27 col1\" >50.25 Min</td>\n",
       "      <td id=\"T_7ace2_row27_col2\" class=\"data row27 col2\" >25.5 Km/h</td>\n",
       "      <td id=\"T_7ace2_row27_col3\" class=\"data row27 col3\" >38.0 Km/h</td>\n",
       "    </tr>\n",
       "    <tr>\n",
       "      <th id=\"T_7ace2_level0_row28\" class=\"row_heading level0 row28\" >03-02-2021</th>\n",
       "      <td id=\"T_7ace2_row28_col0\" class=\"data row28 col0\" >16.61 Km</td>\n",
       "      <td id=\"T_7ace2_row28_col1\" class=\"data row28 col1\" >39.30 Min</td>\n",
       "      <td id=\"T_7ace2_row28_col2\" class=\"data row28 col2\" >25.3 Km/h</td>\n",
       "      <td id=\"T_7ace2_row28_col3\" class=\"data row28 col3\" >36.0 Km/h</td>\n",
       "    </tr>\n",
       "    <tr>\n",
       "      <th id=\"T_7ace2_level0_row29\" class=\"row_heading level0 row29\" >20-02-2021</th>\n",
       "      <td id=\"T_7ace2_row29_col0\" class=\"data row29 col0\" >24.59 Km</td>\n",
       "      <td id=\"T_7ace2_row29_col1\" class=\"data row29 col1\" >64.03 Min</td>\n",
       "      <td id=\"T_7ace2_row29_col2\" class=\"data row29 col2\" >22.8 Km/h</td>\n",
       "      <td id=\"T_7ace2_row29_col3\" class=\"data row29 col3\" >46.4 Km/h</td>\n",
       "    </tr>\n",
       "    <tr>\n",
       "      <th id=\"T_7ace2_level0_row30\" class=\"row_heading level0 row30\" >31-06-2021</th>\n",
       "      <td id=\"T_7ace2_row30_col0\" class=\"data row30 col0\" >22.94 Km</td>\n",
       "      <td id=\"T_7ace2_row30_col1\" class=\"data row30 col1\" >60.12 Min</td>\n",
       "      <td id=\"T_7ace2_row30_col2\" class=\"data row30 col2\" >22.9 Km/h</td>\n",
       "      <td id=\"T_7ace2_row30_col3\" class=\"data row30 col3\" >37.1 Km/h</td>\n",
       "    </tr>\n",
       "  </tbody>\n",
       "</table>\n"
      ],
      "text/plain": [
       "<pandas.io.formats.style.Styler at 0x7fb6a823dfd0>"
      ]
     },
     "execution_count": 2,
     "metadata": {},
     "output_type": "execute_result"
    }
   ],
   "source": [
    "plot_all_rides_table()"
   ]
  },
  {
   "cell_type": "markdown",
   "metadata": {},
   "source": [
    "## Médias"
   ]
  },
  {
   "cell_type": "code",
   "execution_count": 3,
   "metadata": {
    "tags": []
   },
   "outputs": [
    {
     "name": "stdout",
     "output_type": "stream",
     "text": [
      "Quilometragem: 15.46 Km\n",
      "Tempo por pedalada: 44.09 min\n",
      "Velocidade média: 20.61 Km/h\n",
      "Velocidade máxima: 36.58 Km/h\n"
     ]
    }
   ],
   "source": [
    "print_average_data()"
   ]
  },
  {
   "cell_type": "markdown",
   "metadata": {},
   "source": [
    "## Metragem e duração"
   ]
  },
  {
   "cell_type": "code",
   "execution_count": 4,
   "metadata": {},
   "outputs": [
    {
     "data": {
      "image/png": "[encoded data removed]",
      "text/plain": [
       "<Figure size 432x288 with 1 Axes>"
      ]
     },
     "metadata": {
      "needs_background": "light"
     },
     "output_type": "display_data"
    }
   ],
   "source": [
    "plot_mileage_chart()"
   ]
  }
 ],
 "metadata": {
  "kernelspec": {
   "display_name": "Python 3",
   "language": "python",
   "name": "python3"
  },
  "language_info": {
   "codemirror_mode": {
    "name": "ipython",
    "version": 3
   },
   "file_extension": ".py",
   "mimetype": "text/x-python",
   "name": "python",
   "nbconvert_exporter": "python",
   "pygments_lexer": "ipython3",
   "version": "3.8.6"
  }
 },
 "nbformat": 4,
 "nbformat_minor": 4
}
