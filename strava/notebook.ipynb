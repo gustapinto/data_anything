{
 "cells": [
  {
   "cell_type": "markdown",
   "metadata": {},
   "source": [
    "# Análise de pedaladas Strava\n",
    "<hr/>"
   ]
  },
  {
   "cell_type": "code",
   "execution_count": 1,
   "metadata": {
    "tags": []
   },
   "outputs": [],
   "source": [
    "from services import data_frame, print_average_data, plot_mileage_chart"
   ]
  },
  {
   "cell_type": "markdown",
   "metadata": {},
   "source": [
    "## Todas as pedaladas"
   ]
  },
  {
   "cell_type": "code",
   "execution_count": 2,
   "metadata": {},
   "outputs": [
    {
     "data": {
      "text/html": [
       "<div>\n",
       "<style scoped>\n",
       "    .dataframe tbody tr th:only-of-type {\n",
       "        vertical-align: middle;\n",
       "    }\n",
       "\n",
       "    .dataframe tbody tr th {\n",
       "        vertical-align: top;\n",
       "    }\n",
       "\n",
       "    .dataframe thead th {\n",
       "        text-align: right;\n",
       "    }\n",
       "</style>\n",
       "<table border=\"1\" class=\"dataframe\">\n",
       "  <thead>\n",
       "    <tr style=\"text-align: right;\">\n",
       "      <th></th>\n",
       "      <th>13-03-2020</th>\n",
       "      <th>25-04-2020</th>\n",
       "      <th>09-05-2020</th>\n",
       "      <th>20-06-2020</th>\n",
       "      <th>21-06-2020</th>\n",
       "      <th>04-07-2020</th>\n",
       "      <th>05-07-2020</th>\n",
       "      <th>18-07-2020</th>\n",
       "      <th>27-08-2020</th>\n",
       "      <th>30-08-2020</th>\n",
       "      <th>...</th>\n",
       "      <th>26-12-2020</th>\n",
       "      <th>31-12-2020</th>\n",
       "      <th>02-01-2021</th>\n",
       "      <th>27-01-2021</th>\n",
       "      <th>29-01-2021</th>\n",
       "      <th>01-02-2021</th>\n",
       "      <th>02-02-2021</th>\n",
       "      <th>03-02-2021</th>\n",
       "      <th>20-02-2021</th>\n",
       "      <th>31-06-2021</th>\n",
       "    </tr>\n",
       "  </thead>\n",
       "  <tbody>\n",
       "    <tr>\n",
       "      <th>mileage</th>\n",
       "      <td>11140.0</td>\n",
       "      <td>8840.0</td>\n",
       "      <td>7690.0</td>\n",
       "      <td>10460.0</td>\n",
       "      <td>8780.0</td>\n",
       "      <td>11100.0</td>\n",
       "      <td>8708.0</td>\n",
       "      <td>5080.0</td>\n",
       "      <td>14890.0</td>\n",
       "      <td>8850.0</td>\n",
       "      <td>...</td>\n",
       "      <td>7620.0</td>\n",
       "      <td>16890.0</td>\n",
       "      <td>9980.0</td>\n",
       "      <td>24570.0</td>\n",
       "      <td>26810.0</td>\n",
       "      <td>14220.0</td>\n",
       "      <td>21260.0</td>\n",
       "      <td>16610.0</td>\n",
       "      <td>24590.0</td>\n",
       "      <td>22940.0</td>\n",
       "    </tr>\n",
       "    <tr>\n",
       "      <th>time</th>\n",
       "      <td>2539.0</td>\n",
       "      <td>1576.0</td>\n",
       "      <td>1497.0</td>\n",
       "      <td>1934.0</td>\n",
       "      <td>2112.0</td>\n",
       "      <td>2049.0</td>\n",
       "      <td>1898.0</td>\n",
       "      <td>1208.0</td>\n",
       "      <td>3228.0</td>\n",
       "      <td>1768.0</td>\n",
       "      <td>...</td>\n",
       "      <td>1357.0</td>\n",
       "      <td>2495.0</td>\n",
       "      <td>1765.0</td>\n",
       "      <td>3526.0</td>\n",
       "      <td>4026.0</td>\n",
       "      <td>3003.0</td>\n",
       "      <td>3015.0</td>\n",
       "      <td>2358.0</td>\n",
       "      <td>3842.0</td>\n",
       "      <td>3607.0</td>\n",
       "    </tr>\n",
       "    <tr>\n",
       "      <th>average_speed</th>\n",
       "      <td>15.8</td>\n",
       "      <td>20.2</td>\n",
       "      <td>18.5</td>\n",
       "      <td>19.5</td>\n",
       "      <td>15.0</td>\n",
       "      <td>19.5</td>\n",
       "      <td>16.7</td>\n",
       "      <td>15.1</td>\n",
       "      <td>16.6</td>\n",
       "      <td>18.0</td>\n",
       "      <td>...</td>\n",
       "      <td>20.2</td>\n",
       "      <td>24.4</td>\n",
       "      <td>20.4</td>\n",
       "      <td>25.3</td>\n",
       "      <td>23.9</td>\n",
       "      <td>16.8</td>\n",
       "      <td>25.5</td>\n",
       "      <td>25.3</td>\n",
       "      <td>22.8</td>\n",
       "      <td>22.9</td>\n",
       "    </tr>\n",
       "    <tr>\n",
       "      <th>top_speed</th>\n",
       "      <td>29.5</td>\n",
       "      <td>29.2</td>\n",
       "      <td>29.5</td>\n",
       "      <td>32.4</td>\n",
       "      <td>30.6</td>\n",
       "      <td>30.6</td>\n",
       "      <td>31.7</td>\n",
       "      <td>33.1</td>\n",
       "      <td>40.7</td>\n",
       "      <td>36.4</td>\n",
       "      <td>...</td>\n",
       "      <td>38.2</td>\n",
       "      <td>36.4</td>\n",
       "      <td>38.9</td>\n",
       "      <td>41.4</td>\n",
       "      <td>43.6</td>\n",
       "      <td>37.1</td>\n",
       "      <td>38.0</td>\n",
       "      <td>36.0</td>\n",
       "      <td>46.4</td>\n",
       "      <td>37.1</td>\n",
       "    </tr>\n",
       "  </tbody>\n",
       "</table>\n",
       "<p>4 rows × 31 columns</p>\n",
       "</div>"
      ],
      "text/plain": [
       "               13-03-2020  25-04-2020  09-05-2020  20-06-2020  21-06-2020  \\\n",
       "mileage           11140.0      8840.0      7690.0     10460.0      8780.0   \n",
       "time               2539.0      1576.0      1497.0      1934.0      2112.0   \n",
       "average_speed        15.8        20.2        18.5        19.5        15.0   \n",
       "top_speed            29.5        29.2        29.5        32.4        30.6   \n",
       "\n",
       "               04-07-2020  05-07-2020  18-07-2020  27-08-2020  30-08-2020  \\\n",
       "mileage           11100.0      8708.0      5080.0     14890.0      8850.0   \n",
       "time               2049.0      1898.0      1208.0      3228.0      1768.0   \n",
       "average_speed        19.5        16.7        15.1        16.6        18.0   \n",
       "top_speed            30.6        31.7        33.1        40.7        36.4   \n",
       "\n",
       "               ...  26-12-2020  31-12-2020  02-01-2021  27-01-2021  \\\n",
       "mileage        ...      7620.0     16890.0      9980.0     24570.0   \n",
       "time           ...      1357.0      2495.0      1765.0      3526.0   \n",
       "average_speed  ...        20.2        24.4        20.4        25.3   \n",
       "top_speed      ...        38.2        36.4        38.9        41.4   \n",
       "\n",
       "               29-01-2021  01-02-2021  02-02-2021  03-02-2021  20-02-2021  \\\n",
       "mileage           26810.0     14220.0     21260.0     16610.0     24590.0   \n",
       "time               4026.0      3003.0      3015.0      2358.0      3842.0   \n",
       "average_speed        23.9        16.8        25.5        25.3        22.8   \n",
       "top_speed            43.6        37.1        38.0        36.0        46.4   \n",
       "\n",
       "               31-06-2021  \n",
       "mileage           22940.0  \n",
       "time               3607.0  \n",
       "average_speed        22.9  \n",
       "top_speed            37.1  \n",
       "\n",
       "[4 rows x 31 columns]"
      ]
     },
     "execution_count": 2,
     "metadata": {},
     "output_type": "execute_result"
    }
   ],
   "source": [
    "data_frame"
   ]
  },
  {
   "cell_type": "markdown",
   "metadata": {},
   "source": [
    "## Médias"
   ]
  },
  {
   "cell_type": "code",
   "execution_count": 3,
   "metadata": {
    "tags": []
   },
   "outputs": [
    {
     "name": "stdout",
     "output_type": "stream",
     "text": [
      "Quilometragem: 15.46 Km\n",
      "Tempo por pedalada: 44.09 min\n",
      "Velocidade média: 20.61 Km/h\n",
      "Velocidade máxima: 36.58 Km/h\n"
     ]
    }
   ],
   "source": [
    "print_average_data()"
   ]
  },
  {
   "cell_type": "markdown",
   "metadata": {},
   "source": [
    "## Gráficos"
   ]
  },
  {
   "cell_type": "code",
   "execution_count": 4,
   "metadata": {},
   "outputs": [
    {
     "data": {
      "image/png": "[encoded data removed]",
      "text/plain": [
       "<Figure size 432x288 with 1 Axes>"
      ]
     },
     "metadata": {
      "needs_background": "light"
     },
     "output_type": "display_data"
    }
   ],
   "source": [
    "plot_mileage_chart()"
   ]
  }
 ],
 "metadata": {
  "kernelspec": {
   "display_name": "Python 3",
   "language": "python",
   "name": "python3"
  },
  "language_info": {
   "codemirror_mode": {
    "name": "ipython",
    "version": 3
   },
   "file_extension": ".py",
   "mimetype": "text/x-python",
   "name": "python",
   "nbconvert_exporter": "python",
   "pygments_lexer": "ipython3",
   "version": "3.8.6"
  }
 },
 "nbformat": 4,
 "nbformat_minor": 4
}
